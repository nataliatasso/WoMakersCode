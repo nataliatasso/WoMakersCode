{
  "nbformat": 4,
  "nbformat_minor": 0,
  "metadata": {
    "colab": {
      "provenance": []
    },
    "kernelspec": {
      "name": "python3",
      "display_name": "Python 3"
    },
    "language_info": {
      "name": "python"
    }
  },
  "cells": [
    {
      "cell_type": "markdown",
      "source": [
        "# Exercícios de Conceitos Básicos de Python"
      ],
      "metadata": {
        "id": "v8UclYrruHyW"
      }
    },
    {
      "cell_type": "code",
      "source": [
        "from datetime import datetime"
      ],
      "metadata": {
        "id": "PQjz5mfWy6kk"
      },
      "execution_count": null,
      "outputs": []
    },
    {
      "cell_type": "markdown",
      "source": [
        "1. Faça um programa que peça dois números e realize as principais\n",
        "operações (soma, subtração, multiplicação e divisão)."
      ],
      "metadata": {
        "id": "HAf0gVUzv5oY"
      }
    },
    {
      "cell_type": "code",
      "execution_count": null,
      "metadata": {
        "id": "EuZuSTONvrPx",
        "colab": {
          "base_uri": "https://localhost:8080/"
        },
        "outputId": "7f7536d7-1cfc-49bc-e7c6-a44a8f933d14"
      },
      "outputs": [
        {
          "output_type": "stream",
          "name": "stdout",
          "text": [
            "Digite um número: 4\n",
            "Digite outro número: 2\n",
            "A soma dos dois número é igual a 6.0.\n",
            "A subtração dos dois número é igual a 2.0.\n",
            "A multiplicação dos dois número é igual a 8.0.\n",
            "A divisão dos dois número é igual a 2.0.\n"
          ]
        }
      ],
      "source": [
        "# Solicitar entrada ao usuário\n",
        "num1 = float(input('Digite um número: '))\n",
        "num2 = float(input('Digite outro número: '))\n",
        "\n",
        "# Realizar as operações\n",
        "soma = num1 + num2\n",
        "subt = num1 - num2\n",
        "mult = num1 * num2\n",
        "div = num1 / num2\n",
        "\n",
        "# Exibir o resultado\n",
        "print(f\"A soma dos dois número é igual a {soma}.\")\n",
        "print(f\"A subtração dos dois número é igual a {subt}.\")\n",
        "print(f\"A multiplicação dos dois número é igual a {mult}.\")\n",
        "print(f\"A divisão dos dois número é igual a {div}.\")"
      ]
    },
    {
      "cell_type": "markdown",
      "source": [
        "2. Peça ao usuário para informar o ano de nascimento. Em seguida,\n",
        "calcule e imprima a idade atual."
      ],
      "metadata": {
        "id": "xJ7NDHw0x1c_"
      }
    },
    {
      "cell_type": "code",
      "source": [
        "# Solicitar entrada ao usuário\n",
        "ano = int(input('Insira seu ano de nascimento: '))\n",
        "\n",
        "# Obter o ano atual\n",
        "ano_atual = datetime.now().year\n",
        "\n",
        "# Calcular a idade\n",
        "idade = ano_atual - ano\n",
        "\n",
        "# Exibir o resultado\n",
        "print(f'Você já tem ou fará {idade} anos em {ano_atual}.')"
      ],
      "metadata": {
        "id": "ymvJpZDqx3wO",
        "colab": {
          "base_uri": "https://localhost:8080/"
        },
        "outputId": "c1d816b9-cb00-4a4f-a713-07345b96823b"
      },
      "execution_count": null,
      "outputs": [
        {
          "output_type": "stream",
          "name": "stdout",
          "text": [
            "Insira seu ano de nascimento: 1993\n",
            "Você já tem ou fará 31 anos em 2024.\n"
          ]
        }
      ]
    },
    {
      "cell_type": "markdown",
      "source": [
        "3. Faça um programa que peça a quantidade de quilômetros, transforme\n",
        "em metros, centímetros e milímetros."
      ],
      "metadata": {
        "id": "scKtMgs6zaAW"
      }
    },
    {
      "cell_type": "code",
      "source": [
        "# Solicitar entrada ao usuário\n",
        "km = float(input('Insira uma quantidade de quilômetros: '))\n",
        "\n",
        "# Realizar as operações\n",
        "metros = km * 1000\n",
        "centi = km * 100000\n",
        "mili = km * 1000000\n",
        "\n",
        "# Exibir o resultado\n",
        "print(f'O número inserido de quilômetros equivale a {metros:.0f} metros, {centi:.0f} centímetros e {mili:.0f} milímetros')"
      ],
      "metadata": {
        "id": "6x3mOTZxzemn",
        "colab": {
          "base_uri": "https://localhost:8080/"
        },
        "outputId": "8ccc2fee-48a9-4b87-d4dc-a237be73225f"
      },
      "execution_count": null,
      "outputs": [
        {
          "output_type": "stream",
          "name": "stdout",
          "text": [
            "Insira uma quantidade de quilômetros: 10\n",
            "O número inserido de quilômetros equivale a 10000 metros, 1000000 centímetros e 10000000 milímetros\n"
          ]
        }
      ]
    },
    {
      "cell_type": "markdown",
      "source": [
        "4. Receba do usuário a quantidade de litros de combustível consumidos e\n",
        "a distância percorrida. Calcule e imprima o consumo médio em km/l."
      ],
      "metadata": {
        "id": "fff0_EfA2mDm"
      }
    },
    {
      "cell_type": "code",
      "source": [
        "# Solicitar entrada ao usuário\n",
        "print('Insira a quantidade de litros de combustível consumidos e a distância percorrida.')\n",
        "litros = float(input('Quantidade de litros: '))\n",
        "distancia = float(input('Distância percorrida: '))\n",
        "\n",
        "# Calcular\n",
        "consumo_medio = distancia / litros\n",
        "\n",
        "# Exibir o resultado\n",
        "print(f'O consumo médio do veículo foi de {consumo_medio:.2f} km/l.')"
      ],
      "metadata": {
        "id": "ZmL-JG7Q2qCa",
        "colab": {
          "base_uri": "https://localhost:8080/"
        },
        "outputId": "0b435e43-d54a-41ca-ec76-1ee1c0b5619a"
      },
      "execution_count": null,
      "outputs": [
        {
          "output_type": "stream",
          "name": "stdout",
          "text": [
            "Insira a quantidade de litros de combustível consumidos e a distância percorrida.\n",
            "Quantidade de litros: 1\n",
            "Distância percorrida: 10.5\n",
            "O consumo médio do veículo foi de 10.50 km/l.\n"
          ]
        }
      ]
    },
    {
      "cell_type": "markdown",
      "source": [
        "5. Escreva um programa que calcule o tempo de uma viagem. Faça um\n",
        "comparativo do mesmo percurso de avião, carro e ônibus.\n",
        "Levando em consideração:\n",
        "● avião = 600 km/h\n",
        "● carro = 100 km/h\n",
        "● ônibus = 80 km/h"
      ],
      "metadata": {
        "id": "E7Ea1aA82tOq"
      }
    },
    {
      "cell_type": "code",
      "source": [
        "# Solicitar entrada ao usuário\n",
        "distancia = float(input('Insira a distância da sua viagem em quilômetros: '))\n",
        "\n",
        "# Calcular\n",
        "tempo_aviao = distancia / 600\n",
        "tempo_carro = distancia / 100\n",
        "tempo_onibus = distancia / 80\n",
        "\n",
        "# Exibir o resultado\n",
        "print(f'A sua viagem duraria {tempo_aviao:.2f} horas de aviao, {tempo_carro:.2f} horas de carro e {tempo_onibus:.2f} horas de ônibus')"
      ],
      "metadata": {
        "id": "uf49gXZP2v74",
        "colab": {
          "base_uri": "https://localhost:8080/"
        },
        "outputId": "e1660d96-6bc6-4d46-ff27-ef0185be2ea0"
      },
      "execution_count": null,
      "outputs": [
        {
          "output_type": "stream",
          "name": "stdout",
          "text": [
            "Insira a distância da sua viagem em quilômetros: 20\n",
            "A sua viagem duraria 0.03 horas de aviao, 0.20 horas de carro e 0.25 horas de ônibus\n"
          ]
        }
      ]
    },
    {
      "cell_type": "markdown",
      "source": [
        "6. Solicite ao usuário o peso em kg e a altura em metros. Calcule e\n",
        "imprima o Índice de Massa Corporal (IMC) usando a fórmula:\n",
        "IMC = peso / (altura x altura)."
      ],
      "metadata": {
        "id": "2UoAB36I2wTk"
      }
    },
    {
      "cell_type": "code",
      "source": [
        "# Solicitar entrada ao usuário\n",
        "print('Vamos calcular seu Índice de Massa Corporal! Insira abaixo seu peso e sua altura.')\n",
        "peso = float(input('Peso (em quilos): '))\n",
        "altura = float(input('Altura (em metros): '))\n",
        "\n",
        "# Calcular\n",
        "imc = peso / (altura ** 2)\n",
        "\n",
        "# Exibir o resultado\n",
        "print(f'Seu IMC é {imc:.2f}.')"
      ],
      "metadata": {
        "colab": {
          "base_uri": "https://localhost:8080/"
        },
        "id": "yNfLHv4q2yZf",
        "outputId": "09f7aa38-6776-4468-fb39-318a5398e6b4"
      },
      "execution_count": null,
      "outputs": [
        {
          "output_type": "stream",
          "name": "stdout",
          "text": [
            "Vamos calcular seu Índice de Massa Corporal! Insira abaixo seu peso e sua altura.\n",
            "Peso (em quilos): 70\n",
            "Altura (em metros): 1.62\n",
            "Seu IMC é 26.67.\n"
          ]
        }
      ]
    },
    {
      "cell_type": "markdown",
      "source": [
        "7. Faça um Programa que pergunte quanto você ganha por hora e o\n",
        "número de horas trabalhadas no mês.Calcule e mostre o total do seu\n",
        "salário no referido mês."
      ],
      "metadata": {
        "id": "QhTmA7VI2yzb"
      }
    },
    {
      "cell_type": "code",
      "source": [
        "# Solicitar entrada ao usuário\n",
        "print('Vamos calcular seu salário. Insira abaixo quanto você ganha por hora e o número de horas trabalhadas em um mês.')\n",
        "valor_por_hora = float(input('Valor ganho em cada hora trabalhada: R$ '))\n",
        "horas_trabalhadas = float(input('Número de horas: '))\n",
        "\n",
        "# Calcula o total do salário\n",
        "salario_mensal = valor_por_hora * horas_trabalhadas\n",
        "\n",
        "# Exibir o resultado\n",
        "print(f'Em um período de um mês seu salário é de R$ {salario_mensal:.2f}.')"
      ],
      "metadata": {
        "colab": {
          "base_uri": "https://localhost:8080/"
        },
        "id": "e4h5F9YS20PH",
        "outputId": "680dc37a-210d-4dde-a515-9f5c83b49092"
      },
      "execution_count": null,
      "outputs": [
        {
          "output_type": "stream",
          "name": "stdout",
          "text": [
            "Vamos calcular seu salário. Insira abaixo quanto você ganha por hora e o número de horas trabalhadas em um mês.\n",
            "Valor ganho em cada hora trabalhada: R$ 15\n",
            "Número de horas: 150\n",
            "Em um período de um mês seu salário é de R$ 2250.00.\n"
          ]
        }
      ]
    },
    {
      "cell_type": "markdown",
      "source": [
        "8. Solicite ao usuário o número de horas de exercício físico por semana.\n",
        "Calcule o total de calorias queimadas em um mês, considerando uma\n",
        "média de 5 calorias por minuto de exercício."
      ],
      "metadata": {
        "id": "lEW8IiAm20au"
      }
    },
    {
      "cell_type": "code",
      "source": [
        "# Solicitar entrada ao usuário\n",
        "horas_exercicio_semana = float(input('Insira quantas horas de exercício físico por semana você faz: '))\n",
        "\n",
        "# Converte para minutos\n",
        "minutos_exercicio_semana = horas_exercicio_semana * 60\n",
        "\n",
        "# Calcular o total de calorias gastas\n",
        "calorias_semana = minutos_exercicio_semana * 5\n",
        "\n",
        "# Calcular o total de calorias em um mês\n",
        "calorias_semana = calorias_semana * 4\n",
        "\n",
        "# Exibir o resultado\n",
        "print(f'Em um período de um mês (4 semenas) você gasta {calorias_semana} calorias.')"
      ],
      "metadata": {
        "id": "ChFz1D_G210b",
        "colab": {
          "base_uri": "https://localhost:8080/"
        },
        "outputId": "ad071708-579b-43ce-ad3c-c65504cc1096"
      },
      "execution_count": null,
      "outputs": [
        {
          "output_type": "stream",
          "name": "stdout",
          "text": [
            "Insira quantas horas de exercício físico por semana você faz: 6\n",
            "Em um período de um mês (4 semenas) você gasta 7200.0 calorias.\n"
          ]
        }
      ]
    },
    {
      "cell_type": "markdown",
      "source": [
        "9. Faça um Programa que utilize 4 variáveis como preferir e no final print\n",
        "uma mensagem amigável utilizando as variáveis criadas.\n",
        "Exemplos de variáveis: nome, idade, lugar, profissão ....\n",
        "Exemplo de retorno: Olá Maria, prazer te conhecer. Sou de São Paulo\n",
        "também e estou migrando de área.\n",
        "Lembrando que para o retorno vamos usar print com as variáveis\n",
        "criadas e este texto é somente um exemplo, utilizem a criatividade."
      ],
      "metadata": {
        "id": "zPGfyfDv22W2"
      }
    },
    {
      "cell_type": "code",
      "source": [
        "# Solicitar entrada ao usuário\n",
        "nome = str(input('Insira seu nome: '))\n",
        "idade = int(input('Insira sua idade: '))\n",
        "cidade = str(input('Insira sua cidade: '))\n",
        "profissao = str(input('Insira sua profissão: '))\n",
        "\n",
        "# Exibir o resultado\n",
        "print(f\"Olá, {nome}! Que legal saber que você tem {idade} anos e é {profissao}. Conheço {cidade} e também estou interessado nessa área. Vamos trocar ideias!\")"
      ],
      "metadata": {
        "id": "D6b7lSpD24QU",
        "colab": {
          "base_uri": "https://localhost:8080/"
        },
        "outputId": "165275ac-4196-4ba2-9d83-efad233db0e8"
      },
      "execution_count": null,
      "outputs": [
        {
          "output_type": "stream",
          "name": "stdout",
          "text": [
            "Insira seu nome: Natalia\n",
            "Insira sua idade: 30\n",
            "Insira sua cidade: Natal\n",
            "Insira sua profissão: programadora\n",
            "Olá, Natalia! Que legal saber que você tem 30 anos e é programadora. Conheço Natal e também estou interessado nessa área. Vamos trocar ideias!\n"
          ]
        }
      ]
    },
    {
      "cell_type": "markdown",
      "source": [
        "# Exercícios de Tomada de Decisão"
      ],
      "metadata": {
        "id": "uoctWXlMuSLA"
      }
    },
    {
      "cell_type": "markdown",
      "source": [
        "1. Faça um Programa que peça dois números e imprima o maior deles."
      ],
      "metadata": {
        "id": "36_jdeSJuZOV"
      }
    },
    {
      "cell_type": "code",
      "source": [
        "# Solicitar entrada ao usuário\n",
        "num1 = float(input('Digite o primeiro número: '))\n",
        "num2 = float(input('Digite o segundo número: '))\n",
        "\n",
        "# Verificar e exibir o resultado\n",
        "if num1 > num2:\n",
        "  print(f\"O maior número é o {num1}.\")\n",
        "else:\n",
        "  print(f\"O maior número é o {num2}.\")"
      ],
      "metadata": {
        "colab": {
          "base_uri": "https://localhost:8080/"
        },
        "id": "ox-zS6vGubTr",
        "outputId": "3717ae7a-1411-4430-eae7-aaad56ef3bc7"
      },
      "execution_count": null,
      "outputs": [
        {
          "output_type": "stream",
          "name": "stdout",
          "text": [
            "Digite o primeiro número: 5\n",
            "Digite o segundo número: 20\n",
            "O maior número é o 20.0.\n"
          ]
        }
      ]
    },
    {
      "cell_type": "markdown",
      "source": [
        "2. Faça um Programa que pergunte em que turno você estuda. Peça para\n",
        "digitar M-matutino ou V-Vespertino ou N- Noturno. Imprima a mensagem \"Bom\n",
        "Dia!\", \"Boa Tarde!\" ou \"Boa Noite!\" ou \"Valor Inválido!\", conforme o caso."
      ],
      "metadata": {
        "id": "Msooub-owLXc"
      }
    },
    {
      "cell_type": "code",
      "source": [
        "# Solicitar entrada ao usuário\n",
        "turno = input('Digite a letra correspondente ao turno em que você estuda (M-matutino, V-Vespertino, N-Noturno): ')\n",
        "\n",
        "# Verificar e exibir o resultado\n",
        "if turno == 'M':\n",
        "  print('Bom dia!')\n",
        "elif turno == 'V':\n",
        "  print('Boa tarde!')\n",
        "elif turno == 'N':\n",
        "  print('Boa noite!')\n",
        "else:\n",
        "  print('Valor inválido!')"
      ],
      "metadata": {
        "colab": {
          "base_uri": "https://localhost:8080/"
        },
        "id": "QPxAvT7YwPji",
        "outputId": "0eb7909c-0219-4356-a8c0-628c63eb33a3"
      },
      "execution_count": null,
      "outputs": [
        {
          "output_type": "stream",
          "name": "stdout",
          "text": [
            "Digite a letra correspondente ao turno em que você estuda (M-matutino, V-Vespertino, N-Noturno): N\n",
            "Boa noite!\n"
          ]
        }
      ]
    },
    {
      "cell_type": "markdown",
      "source": [
        "3. Faça um programa que peça uma nota, entre zero e dez. Mostre uma\n",
        "mensagem caso o valor seja inválido e continue pedindo até que o usuário\n",
        "informe um valor válido."
      ],
      "metadata": {
        "id": "P5wtRscWxFrB"
      }
    },
    {
      "cell_type": "code",
      "source": [
        "# Solicitar entrada ao usuário\n",
        "nota = float(input('Digite uma nota entre 0 e 10: '))\n",
        "\n",
        "# Verificar e exibir o resultado\n",
        "while nota <0 or nota > 10:\n",
        "  print('Nota inválida! Digite uma nota entre 0 e 10: ')\n",
        "  nota = float(input('Digite uma nota entre 0 e 10: '))\n",
        "\n",
        "print('Nota válida!')"
      ],
      "metadata": {
        "colab": {
          "base_uri": "https://localhost:8080/"
        },
        "id": "yqYxe6EcxDvs",
        "outputId": "49642b20-219f-437a-e27f-bb7cab92ec98"
      },
      "execution_count": null,
      "outputs": [
        {
          "output_type": "stream",
          "name": "stdout",
          "text": [
            "Digite uma nota entre 0 e 10: 20\n",
            "Nota inválida! Digite uma nota entre 0 e 10: \n",
            "Digite uma nota entre 0 e 10: 10\n",
            "Nota válida!\n"
          ]
        }
      ]
    },
    {
      "cell_type": "markdown",
      "source": [
        "4. Implemente um programa que classifique um aluno com base em sua\n",
        "pontuação em um exame. O programa deverá solicitar uma nota de 0 a 10. Se\n",
        "a pontuação for maior ou igual a 7, o aluno é aprovado; caso contrário, é\n",
        "reprovado."
      ],
      "metadata": {
        "id": "k-BDyBZv2ywx"
      }
    },
    {
      "cell_type": "code",
      "source": [
        "# Solicitar entrada ao usuário\n",
        "nota = float(input('Digite a nota do aluno (entre 0 e 10): '))\n",
        "\n",
        "# Verificar e exibir o resultado\n",
        "if nota >= 7:\n",
        "  print('Aluno aprovado.')\n",
        "else:\n",
        "  print('Aluno reprovado.')"
      ],
      "metadata": {
        "colab": {
          "base_uri": "https://localhost:8080/"
        },
        "id": "fI9TeeOa21iU",
        "outputId": "9ec9b4ff-7f93-4513-e2ca-b86c2d77b888"
      },
      "execution_count": null,
      "outputs": [
        {
          "output_type": "stream",
          "name": "stdout",
          "text": [
            "Digite a nota do aluno (entre 0 e 10): 9.5\n",
            "Aluno aprovado.\n"
          ]
        }
      ]
    },
    {
      "cell_type": "markdown",
      "source": [
        "5. Desenvolva um programa que solicite ao usuário os comprimentos dos três\n",
        "lados de um triângulo e classifique-o como equilátero, isósceles ou escaleno (equilátero: todos os lados com o mesmo valor; isósceles: dois lados com o mesmo valor; escaleno: todos os lados com medidas distintas)."
      ],
      "metadata": {
        "id": "wTbloqYf3qxs"
      }
    },
    {
      "cell_type": "code",
      "source": [
        "# Solicitar entrada ao usuário\n",
        "lado1 = float(input('Digite o comprimento do primeiro lado: '))\n",
        "lado2 = float(input('Digite o comprimento do segundo lado: '))\n",
        "lado3 = float(input('Digite o comprimento do terceiro lado: '))\n",
        "\n",
        "# Verificar e exibir o resultado\n",
        "if lado1 == lado2 == lado3:\n",
        "  print('Triângulo equilátero.')\n",
        "elif lado1 == lado2 or lado1 == lado3 or lado2 == lado3:\n",
        "  print('Triângulo isóceles.')\n",
        "else:\n",
        "  print('Triângulo escaleno.')"
      ],
      "metadata": {
        "colab": {
          "base_uri": "https://localhost:8080/"
        },
        "id": "OGAbIcJ03p_o",
        "outputId": "1a142a39-fc64-498a-c68a-4e0937774093"
      },
      "execution_count": null,
      "outputs": [
        {
          "output_type": "stream",
          "name": "stdout",
          "text": [
            "Digite o comprimento do primeiro lado: 10\n",
            "Digite o comprimento do segundo lado: 7\n",
            "Digite o comprimento do terceiro lado: 9\n",
            "Triângulo escaleno.\n"
          ]
        }
      ]
    },
    {
      "cell_type": "markdown",
      "source": [
        "6. Crie um programa que solicite ao usuário um login e uma senha. O\n",
        "programa deve permitir o acesso apenas se o usuário for \"admin\" e a senha\n",
        "for \"admin123\", caso contrário imprima uma mensagem de erro."
      ],
      "metadata": {
        "id": "MWMN6keW6koY"
      }
    },
    {
      "cell_type": "code",
      "source": [
        "# Solicitar entrada ao usuário\n",
        "login = input(\"Digite o login: \")\n",
        "senha = input(\"Digite a senha: \")\n",
        "\n",
        "# Verificar e exibir o resultado\n",
        "if login == \"admin\" and senha == \"admin123\":\n",
        "    print(\"Acesso permitido\")\n",
        "else:\n",
        "    print(\"Acesso negado\")"
      ],
      "metadata": {
        "colab": {
          "base_uri": "https://localhost:8080/"
        },
        "id": "4IumC5_N6oNr",
        "outputId": "914e0194-68f7-4bc9-9e75-29c4d7c2521c"
      },
      "execution_count": null,
      "outputs": [
        {
          "output_type": "stream",
          "name": "stdout",
          "text": [
            "Digite o login: admin\n",
            "Digite a senha: admin123\n",
            "Acesso permitido\n"
          ]
        }
      ]
    },
    {
      "cell_type": "markdown",
      "source": [
        "7. Desenvolver um programa que solicite a idade do usuário e identifique se\n",
        "ele é uma criança, um adolescente, adulto ou idoso."
      ],
      "metadata": {
        "id": "7UHj-_ui66Cq"
      }
    },
    {
      "cell_type": "code",
      "source": [
        "# Solicitar entrada ao usuário\n",
        "idade = int(input('Digite a sua idade: '))\n",
        "\n",
        "# Verificar e exibir o resultado\n",
        "if idade >= 0 and idade <= 12:\n",
        "  print('Você é uma criança.')\n",
        "elif idade > 12 and idade <= 18:\n",
        "  print('Você é um adolescente.')\n",
        "elif idade > 18 and idade <= 59:\n",
        "  print('Você é um adulto')\n",
        "else:\n",
        "  print('Você é um idoso.')"
      ],
      "metadata": {
        "colab": {
          "base_uri": "https://localhost:8080/"
        },
        "id": "j0zwBG7z7y4M",
        "outputId": "a44dcf5c-072f-4565-ac2d-48c8692bbc05"
      },
      "execution_count": null,
      "outputs": [
        {
          "output_type": "stream",
          "name": "stdout",
          "text": [
            "Digite a sua idade: 30\n",
            "Você é um adulto\n"
          ]
        }
      ]
    },
    {
      "cell_type": "markdown",
      "source": [
        "8. Criar um programa em Python que solicite três números ao usuário, utilize\n",
        "estruturas condicionais para determinar o maior entre eles e apresente o\n",
        "resultado."
      ],
      "metadata": {
        "id": "hzneHvJ39ItL"
      }
    },
    {
      "cell_type": "code",
      "source": [
        "# Solicitar entrada ao usuário\n",
        "num1 = float(input('Digite o primeiro número: '))\n",
        "num2 = float(input('Digite o segundo número: '))\n",
        "num3 = float(input('Digite o terceiro número: '))\n",
        "\n",
        "# Verificar e exibir o resultado\n",
        "if num1 > num2 and num1 > num3:\n",
        "  print(f'O maior número é o número {num1}.')\n",
        "elif num2 > num1 and num2 > num3:\n",
        "  print(f'O maior número é o número {num2}.')\n",
        "else:\n",
        "  print(f'O maior número é o número {num3}.')"
      ],
      "metadata": {
        "colab": {
          "base_uri": "https://localhost:8080/"
        },
        "id": "FUw-w-RK9LJa",
        "outputId": "f674cd8e-44a6-461c-c734-e96dcac6eb60"
      },
      "execution_count": null,
      "outputs": [
        {
          "output_type": "stream",
          "name": "stdout",
          "text": [
            "Digite o primeiro número: 1\n",
            "Digite o segundo número: 2\n",
            "Digite o terceiro número: 3\n",
            "O maior número é o número 3.0.\n"
          ]
        }
      ]
    },
    {
      "cell_type": "markdown",
      "source": [
        "9. O programa deve calcular e apresentar a quantidade de números pares e\n",
        "ímpares inseridos. O processo de leitura deve ser encerrado quando o usuário\n",
        "informar o valor zero. Certifique-se de incluir validações para garantir que\n",
        "apenas números positivos sejam considerados na contagem e cálculos."
      ],
      "metadata": {
        "id": "qwioDijP9620"
      }
    },
    {
      "cell_type": "code",
      "source": [
        "# Criar lista\n",
        "pares = 0\n",
        "impares = 0\n",
        "\n",
        "# Criar loop para receber os números e armazenar na lista\n",
        "while True:\n",
        "    numero = int(input(\"Digite um número (0 para sair): \"))\n",
        "    if numero == 0:\n",
        "        break\n",
        "    elif numero < 0:\n",
        "        print(\"Apenas números positivos são considerados.\")\n",
        "    elif numero % 2 == 0:\n",
        "        pares += 1\n",
        "    else:\n",
        "        impares += 1\n",
        "\n",
        "#Exibir os resultados\n",
        "print(f'Quantidade de números pares: {pares}')\n",
        "print(f'Quantidade de números ímpares: {impares}')"
      ],
      "metadata": {
        "colab": {
          "base_uri": "https://localhost:8080/"
        },
        "id": "dl3Ge8nL9_Uq",
        "outputId": "84e642f8-7393-4a3d-983f-d5bc41db6d28"
      },
      "execution_count": null,
      "outputs": [
        {
          "output_type": "stream",
          "name": "stdout",
          "text": [
            "Digite um número (0 para sair): 1\n",
            "Digite um número (0 para sair): 2\n",
            "Digite um número (0 para sair): 3\n",
            "Digite um número (0 para sair): 0\n",
            "Quantidade de números pares: 1\n",
            "Quantidade de números ímpares: 2\n"
          ]
        }
      ]
    },
    {
      "cell_type": "markdown",
      "source": [
        "10. Faça um programa que lê três números inteiros e os mostra em ordem\n",
        "crescente."
      ],
      "metadata": {
        "id": "O9OUF766_Nwn"
      }
    },
    {
      "cell_type": "code",
      "source": [
        "# Solicitar entrada ao usuário\n",
        "num1 = int(input(\"Digite o primeiro número: \"))\n",
        "num2 = int(input(\"Digite o segundo número: \"))\n",
        "num3 = int(input(\"Digite o terceiro número: \"))\n",
        "\n",
        "# Ordenar a lista em ordem crescente\n",
        "numeros = [num1, num2, num3]\n",
        "numeros.sort()\n",
        "\n",
        "#Exibir o resultado\n",
        "print(f'Números em ordem crescente: {numeros}')"
      ],
      "metadata": {
        "colab": {
          "base_uri": "https://localhost:8080/"
        },
        "id": "6r0KhKIs_QEr",
        "outputId": "a6b0e422-001c-4ad0-e602-afb9a91b03ce"
      },
      "execution_count": null,
      "outputs": [
        {
          "output_type": "stream",
          "name": "stdout",
          "text": [
            "Digite o primeiro número: 3\n",
            "Digite o segundo número: 1\n",
            "Digite o terceiro número: 2\n",
            "Números em ordem crescente: [1, 2, 3]\n"
          ]
        }
      ]
    },
    {
      "cell_type": "markdown",
      "source": [
        "11. Escreva um programa que calcule o salário líquido. Lembrando de\n",
        "declarar o salário bruto e o percentual de desconto do Imposto de Renda.\n",
        "\n",
        "- Renda até R$ 1.903,98: isento de imposto de renda;\n",
        "\n",
        "- Renda entre R$ 1.903,99 e R$ 2.826,65: alíquota de 7,5%;\n",
        "\n",
        "- Renda entre R$ 2.826,66 e R$ 3.751,05: alíquota de 15%;\n",
        "\n",
        "- Renda entre R$ 3.751,06 e R$ 4.664,68: alíquota de 22,5%;\n",
        "\n",
        "- Renda acima de R$ 4.664,68: alíquota máxima de negrito27,5%."
      ],
      "metadata": {
        "id": "mQVYQaoP_5Ss"
      }
    },
    {
      "cell_type": "code",
      "source": [
        "# Solicitar entrada ao usuário\n",
        "salario_bruto = float(input('Digite o salário bruto: '))\n",
        "\n",
        "# Verificar as condições\n",
        "if salario_bruto <= 1903.98:\n",
        "    imposto = 0\n",
        "elif salario_bruto <= 2826.65:\n",
        "    imposto = salario_bruto * 0.075\n",
        "elif salario_bruto <= 3751.05:\n",
        "    imposto = salario_bruto * 0.15\n",
        "elif salario_bruto <= 4664.68:\n",
        "    imposto = salario_bruto * 0.225\n",
        "else:\n",
        "    imposto = salario_bruto * 0.275\n",
        "\n",
        "# Calcular o imposto sobre o valor do salário bruto\n",
        "salario_liquido = salario_bruto - imposto\n",
        "\n",
        "#Exibir o resultado\n",
        "print('Salário líquido: R$', round(salario_liquido, 2))"
      ],
      "metadata": {
        "colab": {
          "base_uri": "https://localhost:8080/"
        },
        "id": "L5SraK9PACIo",
        "outputId": "b725a157-1893-475c-dc77-00444b073169"
      },
      "execution_count": null,
      "outputs": [
        {
          "output_type": "stream",
          "name": "stdout",
          "text": [
            "Digite o salário bruto: 2400\n",
            "Salário líquido: R$ 2220.0\n"
          ]
        }
      ]
    },
    {
      "cell_type": "markdown",
      "source": [
        "# Exercícios de Tuplas, Listas e Dicionários"
      ],
      "metadata": {
        "id": "vw3SmlokKmuc"
      }
    },
    {
      "cell_type": "markdown",
      "source": [
        "1. Utilizando listas faça um programa que faça 5 perguntas para uma\n",
        "pessoa sobre um crime. As perguntas são: \"Telefonou para a vítima?\", \"Esteve no local do crime?\", \"Mora perto da vítima?\", \"Devia para a vítima?\" e \"Já trabalhou com a vítima?\".\n",
        "\n",
        "O programa deve no final emitir uma classificação sobre a participação\n",
        "da pessoa no crime. Se a pessoa responder positivamente a 2 questões ela deve ser classificada como \"\"Suspeita\"\", entre 3 e 4 como \"\"Cúmplice\"\" e 5 como\n",
        "\"\"Assassino\"\". Caso contrário,ele será classificado como\"\"Inocente\"\"."
      ],
      "metadata": {
        "id": "1P6gnn4KKr9x"
      }
    },
    {
      "cell_type": "code",
      "source": [
        "# Lista de perguntas\n",
        "perguntas = [\n",
        "    \"Telefonou para a vítima?\",\n",
        "    \"Esteve no local do crime?\",\n",
        "    \"Mora perto da vítima?\",\n",
        "    \"Devia para a vítima?\",\n",
        "    \"Já trabalhou com a vítima?\"\n",
        "]\n",
        "\n",
        "# Contador de respostas positivas\n",
        "respostas_positivas = 0\n",
        "\n",
        "# Perguntar para o usuário e coletar as respostas\n",
        "for pergunta in perguntas:\n",
        "    resposta = input(pergunta + \" (sim/não): \").strip().lower()\n",
        "    if resposta == 'sim':\n",
        "        respostas_positivas += 1\n",
        "\n",
        "# Classificar as respostas de acordo com o perfil\n",
        "if respostas_positivas == 2:\n",
        "    print(\"Classificação: Suspeita\")\n",
        "elif 3 <= respostas_positivas <= 4:\n",
        "    print(\"Classificação: Cúmplice\")\n",
        "elif respostas_positivas == 5:\n",
        "    print(\"Classificação: Assassino\")\n",
        "else:\n",
        "    print(\"Classificação: Inocente\")"
      ],
      "metadata": {
        "colab": {
          "base_uri": "https://localhost:8080/"
        },
        "id": "ycM0Xb1DLCqu",
        "outputId": "fcc0ab1c-7b98-4ec6-ae12-269f380ccd3b"
      },
      "execution_count": null,
      "outputs": [
        {
          "output_type": "stream",
          "name": "stdout",
          "text": [
            "Telefonou para a vítima? (sim/não): Sim\n",
            "Esteve no local do crime? (sim/não): Não\n",
            "Mora perto da vítima? (sim/não): Não\n",
            "Devia para a vítima? (sim/não): Não\n",
            "Já trabalhou com a vítima? (sim/não): Não\n",
            "Classificação: Inocente\n"
          ]
        }
      ]
    },
    {
      "cell_type": "markdown",
      "source": [
        "2. Faça um Programa que peça as quatro notas de 5 alunos, calcule\n",
        "e armazene numa lista a média de cada aluno, imprima o número\n",
        "de alunos com média maior ou igual a 7.0."
      ],
      "metadata": {
        "id": "dNbIoMyILD10"
      }
    },
    {
      "cell_type": "code",
      "source": [
        "# Lista para armazenar as médias\n",
        "medias = []\n",
        "\n",
        "# Coletar as notas dos alunos e calcular as médias\n",
        "for i in range(5):\n",
        "    print(f\"Aluno {i+1}:\")\n",
        "    notas = []\n",
        "    for j in range(4):\n",
        "        nota = float(input(f\"Digite a nota {j+1}: \"))\n",
        "        notas.append(nota)\n",
        "    media = sum(notas) / len(notas)\n",
        "    medias.append(media)\n",
        "\n",
        "# Conta quantos alunos têm média maior ou igual a 7.0\n",
        "alunos_aprovados = sum(1 for media in medias if media >= 7.0)\n",
        "print(f\"Número de alunos com média maior ou igual a 7.0: {alunos_aprovados}\")"
      ],
      "metadata": {
        "colab": {
          "base_uri": "https://localhost:8080/"
        },
        "id": "B5vUGa9VLFy1",
        "outputId": "49fadd1e-63b0-4926-83cd-3922b61a64c8"
      },
      "execution_count": null,
      "outputs": [
        {
          "output_type": "stream",
          "name": "stdout",
          "text": [
            "Aluno 1:\n",
            "Digite a nota 1: 7\n",
            "Digite a nota 2: 9\n",
            "Digite a nota 3: 6.4\n",
            "Digite a nota 4: 7\n",
            "Aluno 2:\n",
            "Digite a nota 1: 8\n",
            "Digite a nota 2: 9\n",
            "Digite a nota 3: 7\n",
            "Digite a nota 4: 6.8\n",
            "Aluno 3:\n",
            "Digite a nota 1: 8.9\n",
            "Digite a nota 2: 8\n",
            "Digite a nota 3: 7.4\n",
            "Digite a nota 4: 9\n",
            "Aluno 4:\n",
            "Digite a nota 1: 6\n",
            "Digite a nota 2: 7\n",
            "Digite a nota 3: 9\n",
            "Digite a nota 4: 7\n",
            "Aluno 5:\n",
            "Digite a nota 1: 6\n",
            "Digite a nota 2: 7\n",
            "Digite a nota 3: 8\n",
            "Digite a nota 4: 6\n",
            "Número de alunos com média maior ou igual a 7.0: 4\n"
          ]
        }
      ]
    },
    {
      "cell_type": "markdown",
      "source": [
        "3. Crie um dicionário representando um carrinho de compras.\n",
        "Adicione produtos (chaves) e quantidades (valores) ao carrinho.\n",
        "Calcule o total do carrinho de compra."
      ],
      "metadata": {
        "id": "z4C2rfkKLF-d"
      }
    },
    {
      "cell_type": "code",
      "source": [
        "# Dicionário para armazenar o carrinho de compras\n",
        "carrinho = {}\n",
        "\n",
        "# Adiciona produtos e quantidades ao carrinho\n",
        "while True:\n",
        "    produto = input(\"Digite o nome do produto (ou 'sair' para finalizar): \").strip()\n",
        "    if produto.lower() == 'sair':\n",
        "        break\n",
        "    quantidade = int(input(f\"Digite a quantidade de {produto}: \"))\n",
        "    carrinho[produto] = carrinho.get(produto, 0) + quantidade\n",
        "\n",
        "# Calcula o total do carrinho\n",
        "total = sum(carrinho.values())\n",
        "print(f\"Total de itens no carrinho: {total}\")"
      ],
      "metadata": {
        "colab": {
          "base_uri": "https://localhost:8080/"
        },
        "id": "O24ezssfLIUh",
        "outputId": "6f62f638-5e59-45ae-ae80-e9a42e4892f8"
      },
      "execution_count": null,
      "outputs": [
        {
          "output_type": "stream",
          "name": "stdout",
          "text": [
            "Digite o nome do produto (ou 'sair' para finalizar): Maçã\n",
            "Digite a quantidade de Maçã: 10\n",
            "Digite o nome do produto (ou 'sair' para finalizar): sair\n",
            "Total de itens no carrinho: 10\n"
          ]
        }
      ]
    },
    {
      "cell_type": "markdown",
      "source": [
        "4. Crie um dicionário representando contatos (nome, telefone).\n",
        "Permita ao usuário procurar por um contato pelo nome."
      ],
      "metadata": {
        "id": "Dav-oHEGLIe7"
      }
    },
    {
      "cell_type": "code",
      "source": [
        "# Dicionário para armazenar os contatos\n",
        "contatos = {}\n",
        "\n",
        "# Adiciona contatos\n",
        "while True:\n",
        "    nome = input(\"Digite o nome do contato (ou 'sair' para finalizar): \").strip()\n",
        "    if nome.lower() == 'sair':\n",
        "        break\n",
        "    telefone = input(f\"Digite o telefone de {nome}: \")\n",
        "    contatos[nome] = telefone\n",
        "\n",
        "# Busca por um contato pelo nome\n",
        "nome_busca = input(\"Digite o nome do contato que deseja buscar: \").strip()\n",
        "telefone = contatos.get(nome_busca)\n",
        "if telefone:\n",
        "    print(f\"Telefone de {nome_busca}: {telefone}\")\n",
        "else:\n",
        "    print(f\"Contato {nome_busca} não encontrado.\")"
      ],
      "metadata": {
        "colab": {
          "base_uri": "https://localhost:8080/"
        },
        "id": "ggUnoc_pLJ5u",
        "outputId": "d4dd50bc-71d5-4eb7-e732-eeb7077671ba"
      },
      "execution_count": null,
      "outputs": [
        {
          "output_type": "stream",
          "name": "stdout",
          "text": [
            "Digite o nome do contato (ou 'sair' para finalizar): Rodrigo\n",
            "Digite o telefone de Rodrigo: 849999999\n",
            "Digite o nome do contato (ou 'sair' para finalizar): sair\n",
            "Digite o nome do contato que deseja buscar: Rodrigo\n",
            "Telefone de Rodrigo: 849999999\n"
          ]
        }
      ]
    },
    {
      "cell_type": "markdown",
      "source": [
        "5. Crie duas tuplas. Concatene-as para formar uma nova tupla."
      ],
      "metadata": {
        "id": "TXqFcggNLKN7"
      }
    },
    {
      "cell_type": "code",
      "source": [
        "# Cria duas tuplas\n",
        "tupla1 = tuple(input(\"Digite os elementos da primeira tupla, separados por espaço: \").split())\n",
        "tupla2 = tuple(input(\"Digite os elementos da segunda tupla, separados por espaço: \").split())\n",
        "\n",
        "# Concatena as tuplas\n",
        "tupla_concatenada = tupla1 + tupla2\n",
        "print(f\"Nova tupla concatenada: {tupla_concatenada}\")"
      ],
      "metadata": {
        "colab": {
          "base_uri": "https://localhost:8080/"
        },
        "id": "3yGra4ZZLLu8",
        "outputId": "15ec09ee-2806-4fed-9b38-b0b138b748bb"
      },
      "execution_count": null,
      "outputs": [
        {
          "output_type": "stream",
          "name": "stdout",
          "text": [
            "Digite os elementos da primeira tupla, separados por espaço: Bijout Tulipa\n",
            "Digite os elementos da segunda tupla, separados por espaço: Tangerina\n",
            "Nova tupla concatenada: ('Bijout', 'Tulipa', 'Tangerina')\n"
          ]
        }
      ]
    },
    {
      "cell_type": "markdown",
      "source": [
        "6. Faça um programa que permita ao usuário digitar o seu nome e\n",
        "em seguida mostre o nome do usuário de trás para frente\n",
        "utilizando somente letras maiúsculas. Dica: lembre−se que ao\n",
        "informar o nome o usuário pode digitar letras maiúsculas ou\n",
        "minúsculas."
      ],
      "metadata": {
        "id": "tvgksrKjLL6N"
      }
    },
    {
      "cell_type": "code",
      "source": [
        "# Solicita o nome do usuário\n",
        "nome = input(\"Digite o seu nome: \").strip()\n",
        "\n",
        "# Inverte o nome e converte para maiúsculas\n",
        "nome_invertido = nome[::-1].upper()\n",
        "print(f\"Seu nome de trás para frente é: {nome_invertido}\")"
      ],
      "metadata": {
        "colab": {
          "base_uri": "https://localhost:8080/"
        },
        "id": "K58jC9C7LNFd",
        "outputId": "59c2e964-abcc-414e-efea-a2e1afcf6fd0"
      },
      "execution_count": null,
      "outputs": [
        {
          "output_type": "stream",
          "name": "stdout",
          "text": [
            "Digite o seu nome: Natalia\n",
            "Seu nome de trás para frente é: AILATAN\n"
          ]
        }
      ]
    }
  ]
}